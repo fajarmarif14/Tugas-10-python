{
  "nbformat": 4,
  "nbformat_minor": 0,
  "metadata": {
    "colab": {
      "name": "Untitled2.ipynb",
      "provenance": [],
      "authorship_tag": "ABX9TyN4BWMrpUcHXCIsNf/rLJ/w",
      "include_colab_link": true
    },
    "kernelspec": {
      "name": "python3",
      "display_name": "Python 3"
    }
  },
  "cells": [
    {
      "cell_type": "markdown",
      "metadata": {
        "id": "view-in-github",
        "colab_type": "text"
      },
      "source": [
        "<a href=\"https://colab.research.google.com/github/fajarmarif14/Tugas-10-python/blob/main/Tugas%2010%20python.ipynb\" target=\"_parent\"><img src=\"https://colab.research.google.com/assets/colab-badge.svg\" alt=\"Open In Colab\"/></a>"
      ]
    },
    {
      "cell_type": "markdown",
      "metadata": {
        "id": "OCxqG-TFf0bz"
      },
      "source": [
        "Fajar Maulana Arif\r\n",
        "1101208156\r\n",
        "TTX 44-01"
      ]
    },
    {
      "cell_type": "code",
      "metadata": {
        "colab": {
          "base_uri": "https://localhost:8080/"
        },
        "id": "C12pBRu6fzXf",
        "outputId": "ef84ce57-44ff-459f-8921-5776fb5b6c28"
      },
      "source": [
        "from google.colab import drive\r\n",
        "drive.mount('/content/drive')"
      ],
      "execution_count": 3,
      "outputs": [
        {
          "output_type": "stream",
          "text": [
            "Mounted at /content/drive\n"
          ],
          "name": "stdout"
        }
      ]
    },
    {
      "cell_type": "code",
      "metadata": {
        "colab": {
          "base_uri": "https://localhost:8080/"
        },
        "id": "oKite1L-gFZG",
        "outputId": "5cec9f4a-6787-4c3c-a186-8e6097e7ab2b"
      },
      "source": [
        "cd /content/drive/MyDrive/Colab Notebooks"
      ],
      "execution_count": 4,
      "outputs": [
        {
          "output_type": "stream",
          "text": [
            "/content/drive/MyDrive/Colab Notebooks\n"
          ],
          "name": "stdout"
        }
      ]
    },
    {
      "cell_type": "code",
      "metadata": {
        "id": "DectSsAGgFpR"
      },
      "source": [
        "from keras.models import Sequential\r\n",
        "from keras.layers.convolutional import Conv2D\r\n",
        "from keras.layers.convolutional import MaxPooling2D\r\n",
        "from keras.layers.core import Activation\r\n",
        "from keras.layers.core import Flatten\r\n",
        "from keras.layers.core import Dense\r\n",
        "from keras.optimizers import Adam\r\n",
        "from sklearn.preprocessing import LabelBinarizer\r\n",
        "from sklearn.model_selection import train_test_split\r\n",
        "from sklearn.metrics import classification_report\r\n",
        "from PIL import Image\r\n",
        "from imutils import paths\r\n",
        "import numpy as np\r\n",
        "import os"
      ],
      "execution_count": 6,
      "outputs": []
    },
    {
      "cell_type": "code",
      "metadata": {
        "colab": {
          "base_uri": "https://localhost:8080/"
        },
        "id": "84JhdN08gF4E",
        "outputId": "aa11f487-0c16-4e2d-bfda-50a76765e370"
      },
      "source": [
        "print(\"[INFO] loading images...\")\r\n",
        "imagePaths = paths.list_images(\"3scene\")\r\n",
        "data = []\r\n",
        "labels = []"
      ],
      "execution_count": 7,
      "outputs": [
        {
          "output_type": "stream",
          "text": [
            "[INFO] loading images...\n"
          ],
          "name": "stdout"
        }
      ]
    },
    {
      "cell_type": "code",
      "metadata": {
        "id": "xtApXhi_gGJz"
      },
      "source": [
        "for imagePath in imagePaths:\r\n",
        "\t# load the input image from disk, resize it to 64x64 pixels, scale\r\n",
        "\t# the pixel intensities to the range [0, 1], and then update our\r\n",
        "\t# images list\r\n",
        "\timage = Image.open(imagePath)\r\n",
        "\timage = np.array(image.resize((224, 224))) / 255.0\r\n",
        "\tdata.append(image)\r\n",
        "\r\n",
        "\t# extract the class label from the file path and update the\r\n",
        "\t# labels list\r\n",
        "\tlabel = imagePath.split(os.path.sep)[-2]\r\n",
        "\tlabels.append(label)"
      ],
      "execution_count": 8,
      "outputs": []
    },
    {
      "cell_type": "code",
      "metadata": {
        "colab": {
          "base_uri": "https://localhost:8080/"
        },
        "id": "dOhhIP69gGU4",
        "outputId": "67d2677f-9fc2-4ea3-e9dc-822163cd93ad"
      },
      "source": [
        "\r\n",
        "print(labels)"
      ],
      "execution_count": 9,
      "outputs": [
        {
          "output_type": "stream",
          "text": [
            "['forest', 'forest', 'forest', 'forest', 'forest', 'forest', 'forest', 'forest', 'forest', 'forest', 'forest', 'forest', 'forest', 'forest', 'forest', 'forest', 'forest', 'forest', 'forest', 'forest', 'forest', 'forest', 'forest', 'forest', 'forest', 'forest', 'forest', 'forest', 'forest', 'forest', 'forest', 'forest', 'forest', 'forest', 'forest', 'forest', 'forest', 'forest', 'forest', 'forest', 'forest', 'forest', 'forest', 'forest', 'forest', 'forest', 'forest', 'forest', 'forest', 'forest', 'forest', 'forest', 'forest', 'forest', 'forest', 'forest', 'forest', 'forest', 'forest', 'forest', 'forest', 'forest', 'forest', 'forest', 'forest', 'forest', 'forest', 'forest', 'forest', 'forest', 'forest', 'forest', 'forest', 'forest', 'forest', 'forest', 'forest', 'forest', 'forest', 'forest', 'forest', 'forest', 'forest', 'forest', 'forest', 'forest', 'forest', 'forest', 'forest', 'forest', 'forest', 'forest', 'forest', 'forest', 'forest', 'forest', 'forest', 'forest', 'forest', 'forest', 'forest', 'forest', 'forest', 'forest', 'forest', 'forest', 'forest', 'forest', 'forest', 'forest', 'forest', 'forest', 'forest', 'forest', 'forest', 'forest', 'forest', 'forest', 'forest', 'forest', 'forest', 'forest', 'forest', 'forest', 'forest', 'forest', 'forest', 'forest', 'forest', 'forest', 'forest', 'forest', 'forest', 'forest', 'forest', 'forest', 'forest', 'forest', 'forest', 'forest', 'forest', 'forest', 'forest', 'forest', 'forest', 'forest', 'forest', 'forest', 'forest', 'forest', 'forest', 'forest', 'forest', 'forest', 'forest', 'forest', 'forest', 'forest', 'forest', 'forest', 'forest', 'forest', 'forest', 'forest', 'forest', 'forest', 'forest', 'forest', 'forest', 'forest', 'forest', 'forest', 'forest', 'forest', 'forest', 'forest', 'forest', 'forest', 'forest', 'forest', 'forest', 'forest', 'forest', 'forest', 'forest', 'forest', 'forest', 'forest', 'forest', 'forest', 'forest', 'forest', 'forest', 'forest', 'forest', 'forest', 'forest', 'forest', 'forest', 'forest', 'forest', 'forest', 'forest', 'forest', 'forest', 'forest', 'forest', 'forest', 'forest', 'forest', 'forest', 'forest', 'forest', 'forest', 'forest', 'forest', 'forest', 'forest', 'forest', 'forest', 'forest', 'forest', 'forest', 'forest', 'forest', 'forest', 'forest', 'forest', 'forest', 'forest', 'forest', 'forest', 'forest', 'forest', 'forest', 'forest', 'forest', 'forest', 'forest', 'forest', 'forest', 'forest', 'forest', 'forest', 'forest', 'forest', 'forest', 'forest', 'forest', 'forest', 'forest', 'forest', 'forest', 'forest', 'forest', 'forest', 'forest', 'forest', 'forest', 'forest', 'forest', 'forest', 'forest', 'forest', 'forest', 'forest', 'forest', 'forest', 'forest', 'forest', 'forest', 'forest', 'forest', 'forest', 'forest', 'forest', 'forest', 'forest', 'forest', 'forest', 'forest', 'forest', 'forest', 'forest', 'forest', 'forest', 'forest', 'forest', 'forest', 'forest', 'forest', 'forest', 'forest', 'forest', 'forest', 'forest', 'forest', 'forest', 'forest', 'forest', 'forest', 'forest', 'forest', 'forest', 'forest', 'forest', 'forest', 'forest', 'forest', 'forest', 'forest', 'forest', 'forest', 'forest', 'forest', 'forest', 'forest', 'forest', 'forest', 'forest', 'forest', 'forest', 'forest', 'forest', 'forest', 'forest', 'forest', 'forest', 'highway', 'highway', 'highway', 'highway', 'highway', 'highway', 'highway', 'highway', 'highway', 'highway', 'highway', 'highway', 'highway', 'highway', 'highway', 'highway', 'highway', 'highway', 'highway', 'highway', 'highway', 'highway', 'highway', 'highway', 'highway', 'highway', 'highway', 'highway', 'highway', 'highway', 'highway', 'highway', 'highway', 'highway', 'highway', 'highway', 'highway', 'highway', 'highway', 'highway', 'highway', 'highway', 'highway', 'highway', 'highway', 'highway', 'highway', 'highway', 'highway', 'highway', 'highway', 'highway', 'highway', 'highway', 'highway', 'highway', 'highway', 'highway', 'highway', 'highway', 'highway', 'highway', 'highway', 'highway', 'highway', 'highway', 'highway', 'highway', 'highway', 'highway', 'highway', 'highway', 'highway', 'highway', 'highway', 'highway', 'highway', 'highway', 'highway', 'highway', 'highway', 'highway', 'highway', 'highway', 'highway', 'highway', 'highway', 'highway', 'highway', 'highway', 'highway', 'highway', 'highway', 'highway', 'highway', 'highway', 'highway', 'highway', 'highway', 'highway', 'highway', 'highway', 'highway', 'highway', 'highway', 'highway', 'highway', 'highway', 'highway', 'highway', 'highway', 'highway', 'highway', 'highway', 'highway', 'highway', 'highway', 'highway', 'highway', 'highway', 'highway', 'highway', 'highway', 'highway', 'highway', 'highway', 'highway', 'highway', 'highway', 'highway', 'highway', 'highway', 'highway', 'highway', 'highway', 'highway', 'highway', 'highway', 'highway', 'highway', 'highway', 'highway', 'highway', 'highway', 'highway', 'highway', 'highway', 'highway', 'highway', 'highway', 'highway', 'highway', 'highway', 'highway', 'highway', 'highway', 'highway', 'highway', 'highway', 'highway', 'highway', 'highway', 'highway', 'highway', 'highway', 'highway', 'highway', 'highway', 'highway', 'highway', 'highway', 'highway', 'highway', 'highway', 'highway', 'highway', 'highway', 'highway', 'highway', 'highway', 'highway', 'highway', 'highway', 'highway', 'highway', 'highway', 'highway', 'highway', 'highway', 'highway', 'highway', 'highway', 'highway', 'highway', 'highway', 'highway', 'highway', 'highway', 'highway', 'highway', 'highway', 'highway', 'highway', 'highway', 'highway', 'highway', 'highway', 'highway', 'highway', 'highway', 'highway', 'highway', 'highway', 'highway', 'highway', 'highway', 'highway', 'highway', 'highway', 'highway', 'highway', 'highway', 'highway', 'highway', 'highway', 'highway', 'highway', 'highway', 'highway', 'highway', 'highway', 'highway', 'highway', 'highway', 'highway', 'highway', 'highway', 'highway', 'highway', 'highway', 'highway', 'highway', 'highway', 'highway', 'highway', 'highway', 'highway', 'highway', 'highway', 'highway', 'highway', 'highway', 'highway', 'highway', 'highway', 'highway', 'highway', 'highway', 'highway', 'highway', 'coast', 'coast', 'coast', 'coast', 'coast', 'coast', 'coast', 'coast', 'coast', 'coast', 'coast', 'coast', 'coast', 'coast', 'coast', 'coast', 'coast', 'coast', 'coast', 'coast', 'coast', 'coast', 'coast', 'coast', 'coast', 'coast', 'coast', 'coast', 'coast', 'coast', 'coast', 'coast', 'coast', 'coast', 'coast', 'coast', 'coast', 'coast', 'coast', 'coast', 'coast', 'coast', 'coast', 'coast', 'coast', 'coast', 'coast', 'coast', 'coast', 'coast', 'coast', 'coast', 'coast', 'coast', 'coast', 'coast', 'coast', 'coast', 'coast', 'coast', 'coast', 'coast', 'coast', 'coast', 'coast', 'coast', 'coast', 'coast', 'coast', 'coast', 'coast', 'coast', 'coast', 'coast', 'coast', 'coast', 'coast', 'coast', 'coast', 'coast', 'coast', 'coast', 'coast', 'coast', 'coast', 'coast', 'coast', 'coast', 'coast', 'coast', 'coast', 'coast', 'coast', 'coast', 'coast', 'coast', 'coast', 'coast', 'coast', 'coast', 'coast', 'coast', 'coast', 'coast', 'coast', 'coast', 'coast', 'coast', 'coast', 'coast', 'coast', 'coast', 'coast', 'coast', 'coast', 'coast', 'coast', 'coast', 'coast', 'coast', 'coast', 'coast', 'coast', 'coast', 'coast', 'coast', 'coast', 'coast', 'coast', 'coast', 'coast', 'coast', 'coast', 'coast', 'coast', 'coast', 'coast', 'coast', 'coast', 'coast', 'coast', 'coast', 'coast', 'coast', 'coast', 'coast', 'coast', 'coast', 'coast', 'coast', 'coast', 'coast', 'coast', 'coast', 'coast', 'coast', 'coast', 'coast', 'coast', 'coast', 'coast', 'coast', 'coast', 'coast', 'coast', 'coast', 'coast', 'coast', 'coast', 'coast', 'coast', 'coast', 'coast', 'coast', 'coast', 'coast', 'coast', 'coast', 'coast', 'coast', 'coast', 'coast', 'coast', 'coast', 'coast', 'coast', 'coast', 'coast', 'coast', 'coast', 'coast', 'coast', 'coast', 'coast', 'coast', 'coast', 'coast', 'coast', 'coast', 'coast', 'coast', 'coast', 'coast', 'coast', 'coast', 'coast', 'coast', 'coast', 'coast', 'coast', 'coast', 'coast', 'coast', 'coast', 'coast', 'coast', 'coast', 'coast', 'coast', 'coast', 'coast', 'coast', 'coast', 'coast', 'coast', 'coast', 'coast', 'coast', 'coast', 'coast', 'coast', 'coast', 'coast', 'coast', 'coast', 'coast', 'coast', 'coast', 'coast', 'coast', 'coast', 'coast', 'coast', 'coast', 'coast', 'coast', 'coast', 'coast', 'coast', 'coast', 'coast', 'coast', 'coast', 'coast', 'coast', 'coast', 'coast', 'coast', 'coast', 'coast', 'coast', 'coast', 'coast', 'coast', 'coast', 'coast', 'coast', 'coast', 'coast', 'coast', 'coast', 'coast', 'coast', 'coast', 'coast', 'coast', 'coast', 'coast', 'coast', 'coast', 'coast', 'coast', 'coast', 'coast', 'coast', 'coast', 'coast', 'coast', 'coast', 'coast', 'coast', 'coast', 'coast', 'coast', 'coast', 'coast', 'coast', 'coast', 'coast', 'coast', 'coast', 'coast', 'coast', 'coast', 'coast', 'coast', 'coast', 'coast', 'coast', 'coast', 'coast', 'coast', 'coast', 'coast', 'coast', 'coast', 'coast', 'coast', 'coast', 'coast', 'coast', 'coast', 'coast', 'coast', 'coast', 'coast', 'coast', 'coast', 'coast', 'coast', 'coast', 'coast', 'coast', 'coast', 'coast', 'coast', 'coast', 'coast', 'coast', 'coast', 'coast', 'coast', 'coast', 'coast', 'coast', 'coast', 'coast', 'coast', 'coast', 'coast', 'coast', 'coast', 'coast', 'coast', 'coast', 'coast', 'coast', 'coast', 'coast', 'coast']\n"
          ],
          "name": "stdout"
        }
      ]
    },
    {
      "cell_type": "code",
      "metadata": {
        "id": "NrLbymytgGg5"
      },
      "source": [
        "lb = LabelBinarizer()\r\n",
        "labels = lb.fit_transform(labels)"
      ],
      "execution_count": 10,
      "outputs": []
    },
    {
      "cell_type": "code",
      "metadata": {
        "colab": {
          "base_uri": "https://localhost:8080/"
        },
        "id": "9pd5nMS5gGuN",
        "outputId": "cb3f56dc-ff3f-469b-bc4b-757ae6cb138e"
      },
      "source": [
        "print(labels)"
      ],
      "execution_count": 11,
      "outputs": [
        {
          "output_type": "stream",
          "text": [
            "[[0 1 0]\n",
            " [0 1 0]\n",
            " [0 1 0]\n",
            " ...\n",
            " [1 0 0]\n",
            " [1 0 0]\n",
            " [1 0 0]]\n"
          ],
          "name": "stdout"
        }
      ]
    },
    {
      "cell_type": "code",
      "metadata": {
        "colab": {
          "base_uri": "https://localhost:8080/"
        },
        "id": "__DEhAJGobD5",
        "outputId": "83bd3195-9613-4000-9dd8-7fcb61a2a9d2"
      },
      "source": [
        "(trainX, testX, trainY, testY) = train_test_split(np.array(data),\tnp.array(labels), test_size=0.25)\r\n",
        "print(trainX.shape)\r\n",
        "print(testX.shape)"
      ],
      "execution_count": 12,
      "outputs": [
        {
          "output_type": "stream",
          "text": [
            "(711, 224, 224, 3)\n",
            "(237, 224, 224, 3)\n"
          ],
          "name": "stdout"
        }
      ]
    },
    {
      "cell_type": "code",
      "metadata": {
        "id": "zcEEG6ScohdE"
      },
      "source": [
        "from keras.applications.mobilenet import MobileNet\r\n",
        "from keras.callbacks import EarlyStopping, ModelCheckpoint\r\n",
        "from keras.models import Model\r\n",
        "from keras.layers import GlobalAveragePooling2D, BatchNormalization"
      ],
      "execution_count": 13,
      "outputs": []
    },
    {
      "cell_type": "code",
      "metadata": {
        "colab": {
          "base_uri": "https://localhost:8080/"
        },
        "id": "q6TgAng2ohaV",
        "outputId": "becf1cf8-603a-4a43-b207-0573dbcfa70c"
      },
      "source": [
        "from keras.layers import Dropout\r\n",
        "base_model = MobileNet(weights='imagenet', include_top=False)\r\n",
        "x = base_model.output\r\n",
        "x = GlobalAveragePooling2D()(x)\r\n",
        "x = Dropout(0.5)(x)\r\n",
        "x = BatchNormalization()(x)\r\n",
        "x = Dense(512, activation='relu')(x)\r\n",
        "out = Dense(3, activation='softmax')(x)\r\n",
        "\r\n",
        "model = Model(inputs=base_model.input, outputs=out)\r\n",
        "model.summary()"
      ],
      "execution_count": 14,
      "outputs": [
        {
          "output_type": "stream",
          "text": [
            "WARNING:tensorflow:`input_shape` is undefined or non-square, or `rows` is not in [128, 160, 192, 224]. Weights for input shape (224, 224) will be loaded as the default.\n",
            "Downloading data from https://storage.googleapis.com/tensorflow/keras-applications/mobilenet/mobilenet_1_0_224_tf_no_top.h5\n",
            "17227776/17225924 [==============================] - 0s 0us/step\n",
            "Model: \"model\"\n",
            "_________________________________________________________________\n",
            "Layer (type)                 Output Shape              Param #   \n",
            "=================================================================\n",
            "input_1 (InputLayer)         [(None, None, None, 3)]   0         \n",
            "_________________________________________________________________\n",
            "conv1 (Conv2D)               (None, None, None, 32)    864       \n",
            "_________________________________________________________________\n",
            "conv1_bn (BatchNormalization (None, None, None, 32)    128       \n",
            "_________________________________________________________________\n",
            "conv1_relu (ReLU)            (None, None, None, 32)    0         \n",
            "_________________________________________________________________\n",
            "conv_dw_1 (DepthwiseConv2D)  (None, None, None, 32)    288       \n",
            "_________________________________________________________________\n",
            "conv_dw_1_bn (BatchNormaliza (None, None, None, 32)    128       \n",
            "_________________________________________________________________\n",
            "conv_dw_1_relu (ReLU)        (None, None, None, 32)    0         \n",
            "_________________________________________________________________\n",
            "conv_pw_1 (Conv2D)           (None, None, None, 64)    2048      \n",
            "_________________________________________________________________\n",
            "conv_pw_1_bn (BatchNormaliza (None, None, None, 64)    256       \n",
            "_________________________________________________________________\n",
            "conv_pw_1_relu (ReLU)        (None, None, None, 64)    0         \n",
            "_________________________________________________________________\n",
            "conv_pad_2 (ZeroPadding2D)   (None, None, None, 64)    0         \n",
            "_________________________________________________________________\n",
            "conv_dw_2 (DepthwiseConv2D)  (None, None, None, 64)    576       \n",
            "_________________________________________________________________\n",
            "conv_dw_2_bn (BatchNormaliza (None, None, None, 64)    256       \n",
            "_________________________________________________________________\n",
            "conv_dw_2_relu (ReLU)        (None, None, None, 64)    0         \n",
            "_________________________________________________________________\n",
            "conv_pw_2 (Conv2D)           (None, None, None, 128)   8192      \n",
            "_________________________________________________________________\n",
            "conv_pw_2_bn (BatchNormaliza (None, None, None, 128)   512       \n",
            "_________________________________________________________________\n",
            "conv_pw_2_relu (ReLU)        (None, None, None, 128)   0         \n",
            "_________________________________________________________________\n",
            "conv_dw_3 (DepthwiseConv2D)  (None, None, None, 128)   1152      \n",
            "_________________________________________________________________\n",
            "conv_dw_3_bn (BatchNormaliza (None, None, None, 128)   512       \n",
            "_________________________________________________________________\n",
            "conv_dw_3_relu (ReLU)        (None, None, None, 128)   0         \n",
            "_________________________________________________________________\n",
            "conv_pw_3 (Conv2D)           (None, None, None, 128)   16384     \n",
            "_________________________________________________________________\n",
            "conv_pw_3_bn (BatchNormaliza (None, None, None, 128)   512       \n",
            "_________________________________________________________________\n",
            "conv_pw_3_relu (ReLU)        (None, None, None, 128)   0         \n",
            "_________________________________________________________________\n",
            "conv_pad_4 (ZeroPadding2D)   (None, None, None, 128)   0         \n",
            "_________________________________________________________________\n",
            "conv_dw_4 (DepthwiseConv2D)  (None, None, None, 128)   1152      \n",
            "_________________________________________________________________\n",
            "conv_dw_4_bn (BatchNormaliza (None, None, None, 128)   512       \n",
            "_________________________________________________________________\n",
            "conv_dw_4_relu (ReLU)        (None, None, None, 128)   0         \n",
            "_________________________________________________________________\n",
            "conv_pw_4 (Conv2D)           (None, None, None, 256)   32768     \n",
            "_________________________________________________________________\n",
            "conv_pw_4_bn (BatchNormaliza (None, None, None, 256)   1024      \n",
            "_________________________________________________________________\n",
            "conv_pw_4_relu (ReLU)        (None, None, None, 256)   0         \n",
            "_________________________________________________________________\n",
            "conv_dw_5 (DepthwiseConv2D)  (None, None, None, 256)   2304      \n",
            "_________________________________________________________________\n",
            "conv_dw_5_bn (BatchNormaliza (None, None, None, 256)   1024      \n",
            "_________________________________________________________________\n",
            "conv_dw_5_relu (ReLU)        (None, None, None, 256)   0         \n",
            "_________________________________________________________________\n",
            "conv_pw_5 (Conv2D)           (None, None, None, 256)   65536     \n",
            "_________________________________________________________________\n",
            "conv_pw_5_bn (BatchNormaliza (None, None, None, 256)   1024      \n",
            "_________________________________________________________________\n",
            "conv_pw_5_relu (ReLU)        (None, None, None, 256)   0         \n",
            "_________________________________________________________________\n",
            "conv_pad_6 (ZeroPadding2D)   (None, None, None, 256)   0         \n",
            "_________________________________________________________________\n",
            "conv_dw_6 (DepthwiseConv2D)  (None, None, None, 256)   2304      \n",
            "_________________________________________________________________\n",
            "conv_dw_6_bn (BatchNormaliza (None, None, None, 256)   1024      \n",
            "_________________________________________________________________\n",
            "conv_dw_6_relu (ReLU)        (None, None, None, 256)   0         \n",
            "_________________________________________________________________\n",
            "conv_pw_6 (Conv2D)           (None, None, None, 512)   131072    \n",
            "_________________________________________________________________\n",
            "conv_pw_6_bn (BatchNormaliza (None, None, None, 512)   2048      \n",
            "_________________________________________________________________\n",
            "conv_pw_6_relu (ReLU)        (None, None, None, 512)   0         \n",
            "_________________________________________________________________\n",
            "conv_dw_7 (DepthwiseConv2D)  (None, None, None, 512)   4608      \n",
            "_________________________________________________________________\n",
            "conv_dw_7_bn (BatchNormaliza (None, None, None, 512)   2048      \n",
            "_________________________________________________________________\n",
            "conv_dw_7_relu (ReLU)        (None, None, None, 512)   0         \n",
            "_________________________________________________________________\n",
            "conv_pw_7 (Conv2D)           (None, None, None, 512)   262144    \n",
            "_________________________________________________________________\n",
            "conv_pw_7_bn (BatchNormaliza (None, None, None, 512)   2048      \n",
            "_________________________________________________________________\n",
            "conv_pw_7_relu (ReLU)        (None, None, None, 512)   0         \n",
            "_________________________________________________________________\n",
            "conv_dw_8 (DepthwiseConv2D)  (None, None, None, 512)   4608      \n",
            "_________________________________________________________________\n",
            "conv_dw_8_bn (BatchNormaliza (None, None, None, 512)   2048      \n",
            "_________________________________________________________________\n",
            "conv_dw_8_relu (ReLU)        (None, None, None, 512)   0         \n",
            "_________________________________________________________________\n",
            "conv_pw_8 (Conv2D)           (None, None, None, 512)   262144    \n",
            "_________________________________________________________________\n",
            "conv_pw_8_bn (BatchNormaliza (None, None, None, 512)   2048      \n",
            "_________________________________________________________________\n",
            "conv_pw_8_relu (ReLU)        (None, None, None, 512)   0         \n",
            "_________________________________________________________________\n",
            "conv_dw_9 (DepthwiseConv2D)  (None, None, None, 512)   4608      \n",
            "_________________________________________________________________\n",
            "conv_dw_9_bn (BatchNormaliza (None, None, None, 512)   2048      \n",
            "_________________________________________________________________\n",
            "conv_dw_9_relu (ReLU)        (None, None, None, 512)   0         \n",
            "_________________________________________________________________\n",
            "conv_pw_9 (Conv2D)           (None, None, None, 512)   262144    \n",
            "_________________________________________________________________\n",
            "conv_pw_9_bn (BatchNormaliza (None, None, None, 512)   2048      \n",
            "_________________________________________________________________\n",
            "conv_pw_9_relu (ReLU)        (None, None, None, 512)   0         \n",
            "_________________________________________________________________\n",
            "conv_dw_10 (DepthwiseConv2D) (None, None, None, 512)   4608      \n",
            "_________________________________________________________________\n",
            "conv_dw_10_bn (BatchNormaliz (None, None, None, 512)   2048      \n",
            "_________________________________________________________________\n",
            "conv_dw_10_relu (ReLU)       (None, None, None, 512)   0         \n",
            "_________________________________________________________________\n",
            "conv_pw_10 (Conv2D)          (None, None, None, 512)   262144    \n",
            "_________________________________________________________________\n",
            "conv_pw_10_bn (BatchNormaliz (None, None, None, 512)   2048      \n",
            "_________________________________________________________________\n",
            "conv_pw_10_relu (ReLU)       (None, None, None, 512)   0         \n",
            "_________________________________________________________________\n",
            "conv_dw_11 (DepthwiseConv2D) (None, None, None, 512)   4608      \n",
            "_________________________________________________________________\n",
            "conv_dw_11_bn (BatchNormaliz (None, None, None, 512)   2048      \n",
            "_________________________________________________________________\n",
            "conv_dw_11_relu (ReLU)       (None, None, None, 512)   0         \n",
            "_________________________________________________________________\n",
            "conv_pw_11 (Conv2D)          (None, None, None, 512)   262144    \n",
            "_________________________________________________________________\n",
            "conv_pw_11_bn (BatchNormaliz (None, None, None, 512)   2048      \n",
            "_________________________________________________________________\n",
            "conv_pw_11_relu (ReLU)       (None, None, None, 512)   0         \n",
            "_________________________________________________________________\n",
            "conv_pad_12 (ZeroPadding2D)  (None, None, None, 512)   0         \n",
            "_________________________________________________________________\n",
            "conv_dw_12 (DepthwiseConv2D) (None, None, None, 512)   4608      \n",
            "_________________________________________________________________\n",
            "conv_dw_12_bn (BatchNormaliz (None, None, None, 512)   2048      \n",
            "_________________________________________________________________\n",
            "conv_dw_12_relu (ReLU)       (None, None, None, 512)   0         \n",
            "_________________________________________________________________\n",
            "conv_pw_12 (Conv2D)          (None, None, None, 1024)  524288    \n",
            "_________________________________________________________________\n",
            "conv_pw_12_bn (BatchNormaliz (None, None, None, 1024)  4096      \n",
            "_________________________________________________________________\n",
            "conv_pw_12_relu (ReLU)       (None, None, None, 1024)  0         \n",
            "_________________________________________________________________\n",
            "conv_dw_13 (DepthwiseConv2D) (None, None, None, 1024)  9216      \n",
            "_________________________________________________________________\n",
            "conv_dw_13_bn (BatchNormaliz (None, None, None, 1024)  4096      \n",
            "_________________________________________________________________\n",
            "conv_dw_13_relu (ReLU)       (None, None, None, 1024)  0         \n",
            "_________________________________________________________________\n",
            "conv_pw_13 (Conv2D)          (None, None, None, 1024)  1048576   \n",
            "_________________________________________________________________\n",
            "conv_pw_13_bn (BatchNormaliz (None, None, None, 1024)  4096      \n",
            "_________________________________________________________________\n",
            "conv_pw_13_relu (ReLU)       (None, None, None, 1024)  0         \n",
            "_________________________________________________________________\n",
            "global_average_pooling2d (Gl (None, 1024)              0         \n",
            "_________________________________________________________________\n",
            "dropout (Dropout)            (None, 1024)              0         \n",
            "_________________________________________________________________\n",
            "batch_normalization (BatchNo (None, 1024)              4096      \n",
            "_________________________________________________________________\n",
            "dense (Dense)                (None, 512)               524800    \n",
            "_________________________________________________________________\n",
            "dense_1 (Dense)              (None, 3)                 1539      \n",
            "=================================================================\n",
            "Total params: 3,759,299\n",
            "Trainable params: 3,735,363\n",
            "Non-trainable params: 23,936\n",
            "_________________________________________________________________\n"
          ],
          "name": "stdout"
        }
      ]
    },
    {
      "cell_type": "code",
      "metadata": {
        "colab": {
          "base_uri": "https://localhost:8080/"
        },
        "id": "_jIZx9sCohVK",
        "outputId": "a90d097d-b5c5-4e37-e017-726e554e5f75"
      },
      "source": [
        "print(\"[INFO] training network...\")\r\n",
        "opt = Adam(lr=1e-3, decay=1e-3 / 50)\r\n",
        "model.compile(loss=\"categorical_crossentropy\", optimizer=opt,\r\n",
        "\tmetrics=[\"accuracy\"])\r\n",
        "H = model.fit(trainX, trainY, validation_data=(testX, testY), epochs=50, batch_size=32)"
      ],
      "execution_count": 15,
      "outputs": [
        {
          "output_type": "stream",
          "text": [
            "[INFO] training network...\n",
            "Epoch 1/50\n",
            "23/23 [==============================] - 147s 6s/step - loss: 0.3563 - accuracy: 0.8745 - val_loss: 6.4309 - val_accuracy: 0.4895\n",
            "Epoch 2/50\n",
            "23/23 [==============================] - 142s 6s/step - loss: 0.1242 - accuracy: 0.9687 - val_loss: 10.7295 - val_accuracy: 0.6203\n",
            "Epoch 3/50\n",
            "23/23 [==============================] - 142s 6s/step - loss: 0.0810 - accuracy: 0.9744 - val_loss: 0.6713 - val_accuracy: 0.9198\n",
            "Epoch 4/50\n",
            "23/23 [==============================] - 141s 6s/step - loss: 0.1273 - accuracy: 0.9555 - val_loss: 1.9873 - val_accuracy: 0.8397\n",
            "Epoch 5/50\n",
            "23/23 [==============================] - 143s 6s/step - loss: 0.0341 - accuracy: 0.9934 - val_loss: 0.6110 - val_accuracy: 0.9241\n",
            "Epoch 6/50\n",
            "23/23 [==============================] - 146s 6s/step - loss: 0.1066 - accuracy: 0.9734 - val_loss: 5.9421 - val_accuracy: 0.7004\n",
            "Epoch 7/50\n",
            "23/23 [==============================] - 143s 6s/step - loss: 0.0415 - accuracy: 0.9950 - val_loss: 0.3878 - val_accuracy: 0.9536\n",
            "Epoch 8/50\n",
            "23/23 [==============================] - 142s 6s/step - loss: 0.1108 - accuracy: 0.9717 - val_loss: 0.3246 - val_accuracy: 0.9536\n",
            "Epoch 9/50\n",
            "23/23 [==============================] - 142s 6s/step - loss: 0.1451 - accuracy: 0.9616 - val_loss: 0.1979 - val_accuracy: 0.9747\n",
            "Epoch 10/50\n",
            "23/23 [==============================] - 144s 6s/step - loss: 0.0252 - accuracy: 0.9932 - val_loss: 0.5520 - val_accuracy: 0.8987\n",
            "Epoch 11/50\n",
            "23/23 [==============================] - 143s 6s/step - loss: 0.0365 - accuracy: 0.9905 - val_loss: 0.7346 - val_accuracy: 0.9030\n",
            "Epoch 12/50\n",
            "23/23 [==============================] - 143s 6s/step - loss: 0.0149 - accuracy: 0.9959 - val_loss: 0.2677 - val_accuracy: 0.9747\n",
            "Epoch 13/50\n",
            "23/23 [==============================] - 143s 6s/step - loss: 0.0130 - accuracy: 0.9952 - val_loss: 0.2730 - val_accuracy: 0.9831\n",
            "Epoch 14/50\n",
            "23/23 [==============================] - 146s 6s/step - loss: 0.0746 - accuracy: 0.9791 - val_loss: 0.7507 - val_accuracy: 0.8523\n",
            "Epoch 15/50\n",
            "23/23 [==============================] - 143s 6s/step - loss: 0.0983 - accuracy: 0.9761 - val_loss: 0.0625 - val_accuracy: 0.9789\n",
            "Epoch 16/50\n",
            "23/23 [==============================] - 141s 6s/step - loss: 0.0541 - accuracy: 0.9922 - val_loss: 0.0577 - val_accuracy: 0.9873\n",
            "Epoch 17/50\n",
            "23/23 [==============================] - 142s 6s/step - loss: 0.0081 - accuracy: 0.9986 - val_loss: 0.0148 - val_accuracy: 0.9958\n",
            "Epoch 18/50\n",
            "23/23 [==============================] - 144s 6s/step - loss: 0.0039 - accuracy: 0.9989 - val_loss: 0.0113 - val_accuracy: 0.9916\n",
            "Epoch 19/50\n",
            "23/23 [==============================] - 142s 6s/step - loss: 0.0475 - accuracy: 0.9849 - val_loss: 0.0753 - val_accuracy: 0.9789\n",
            "Epoch 20/50\n",
            "23/23 [==============================] - 140s 6s/step - loss: 0.0313 - accuracy: 0.9869 - val_loss: 0.0321 - val_accuracy: 0.9916\n",
            "Epoch 21/50\n",
            "23/23 [==============================] - 142s 6s/step - loss: 0.0124 - accuracy: 0.9971 - val_loss: 0.0265 - val_accuracy: 0.9958\n",
            "Epoch 22/50\n",
            "23/23 [==============================] - 140s 6s/step - loss: 0.0163 - accuracy: 0.9943 - val_loss: 0.0016 - val_accuracy: 1.0000\n",
            "Epoch 23/50\n",
            "23/23 [==============================] - 144s 6s/step - loss: 0.0426 - accuracy: 0.9865 - val_loss: 0.3201 - val_accuracy: 0.9367\n",
            "Epoch 24/50\n",
            "23/23 [==============================] - 142s 6s/step - loss: 0.0195 - accuracy: 0.9961 - val_loss: 1.8853 - val_accuracy: 0.8270\n",
            "Epoch 25/50\n",
            "23/23 [==============================] - 141s 6s/step - loss: 0.0156 - accuracy: 0.9956 - val_loss: 0.0824 - val_accuracy: 0.9873\n",
            "Epoch 26/50\n",
            "23/23 [==============================] - 140s 6s/step - loss: 0.0059 - accuracy: 0.9977 - val_loss: 0.0416 - val_accuracy: 0.9916\n",
            "Epoch 27/50\n",
            "23/23 [==============================] - 140s 6s/step - loss: 0.1613 - accuracy: 0.9758 - val_loss: 0.3241 - val_accuracy: 0.9409\n",
            "Epoch 28/50\n",
            "23/23 [==============================] - 140s 6s/step - loss: 0.0756 - accuracy: 0.9738 - val_loss: 2.4393 - val_accuracy: 0.7257\n",
            "Epoch 29/50\n",
            "23/23 [==============================] - 140s 6s/step - loss: 0.0380 - accuracy: 0.9839 - val_loss: 0.0255 - val_accuracy: 0.9958\n",
            "Epoch 30/50\n",
            "23/23 [==============================] - 140s 6s/step - loss: 0.1603 - accuracy: 0.9606 - val_loss: 0.0535 - val_accuracy: 0.9789\n",
            "Epoch 31/50\n",
            "23/23 [==============================] - 141s 6s/step - loss: 0.0915 - accuracy: 0.9754 - val_loss: 0.0102 - val_accuracy: 0.9958\n",
            "Epoch 32/50\n",
            "23/23 [==============================] - 141s 6s/step - loss: 0.1098 - accuracy: 0.9756 - val_loss: 0.2115 - val_accuracy: 0.9747\n",
            "Epoch 33/50\n",
            "23/23 [==============================] - 139s 6s/step - loss: 0.1246 - accuracy: 0.9650 - val_loss: 1.0190 - val_accuracy: 0.7637\n",
            "Epoch 34/50\n",
            "23/23 [==============================] - 139s 6s/step - loss: 0.0798 - accuracy: 0.9732 - val_loss: 0.2831 - val_accuracy: 0.9241\n",
            "Epoch 35/50\n",
            "23/23 [==============================] - 140s 6s/step - loss: 0.0379 - accuracy: 0.9915 - val_loss: 0.2758 - val_accuracy: 0.9283\n",
            "Epoch 36/50\n",
            "23/23 [==============================] - 139s 6s/step - loss: 0.1393 - accuracy: 0.9734 - val_loss: 0.3137 - val_accuracy: 0.8903\n",
            "Epoch 37/50\n",
            "23/23 [==============================] - 140s 6s/step - loss: 0.1258 - accuracy: 0.9646 - val_loss: 0.1281 - val_accuracy: 0.9536\n",
            "Epoch 38/50\n",
            "23/23 [==============================] - 139s 6s/step - loss: 0.0787 - accuracy: 0.9708 - val_loss: 0.1017 - val_accuracy: 0.9536\n",
            "Epoch 39/50\n",
            "23/23 [==============================] - 139s 6s/step - loss: 0.0368 - accuracy: 0.9840 - val_loss: 0.0438 - val_accuracy: 0.9873\n",
            "Epoch 40/50\n",
            "23/23 [==============================] - 139s 6s/step - loss: 0.0218 - accuracy: 0.9952 - val_loss: 0.0424 - val_accuracy: 0.9831\n",
            "Epoch 41/50\n",
            "23/23 [==============================] - 140s 6s/step - loss: 0.0206 - accuracy: 0.9943 - val_loss: 0.0243 - val_accuracy: 0.9958\n",
            "Epoch 42/50\n",
            "23/23 [==============================] - 141s 6s/step - loss: 0.0407 - accuracy: 0.9893 - val_loss: 0.1502 - val_accuracy: 0.9620\n",
            "Epoch 43/50\n",
            "23/23 [==============================] - 139s 6s/step - loss: 0.0318 - accuracy: 0.9903 - val_loss: 0.1570 - val_accuracy: 0.9916\n",
            "Epoch 44/50\n",
            "23/23 [==============================] - 140s 6s/step - loss: 0.0121 - accuracy: 0.9954 - val_loss: 0.2146 - val_accuracy: 0.9789\n",
            "Epoch 45/50\n",
            "23/23 [==============================] - 140s 6s/step - loss: 0.0247 - accuracy: 0.9911 - val_loss: 0.0882 - val_accuracy: 0.9958\n",
            "Epoch 46/50\n",
            "23/23 [==============================] - 140s 6s/step - loss: 0.0048 - accuracy: 0.9968 - val_loss: 0.0729 - val_accuracy: 0.9831\n",
            "Epoch 47/50\n",
            "23/23 [==============================] - 139s 6s/step - loss: 0.0752 - accuracy: 0.9855 - val_loss: 0.1166 - val_accuracy: 0.9747\n",
            "Epoch 48/50\n",
            "23/23 [==============================] - 140s 6s/step - loss: 0.0463 - accuracy: 0.9881 - val_loss: 0.0880 - val_accuracy: 0.9662\n",
            "Epoch 49/50\n",
            "23/23 [==============================] - 140s 6s/step - loss: 0.0361 - accuracy: 0.9877 - val_loss: 0.0286 - val_accuracy: 0.9831\n",
            "Epoch 50/50\n",
            "23/23 [==============================] - 141s 6s/step - loss: 0.0480 - accuracy: 0.9857 - val_loss: 0.1355 - val_accuracy: 0.9789\n"
          ],
          "name": "stdout"
        }
      ]
    },
    {
      "cell_type": "code",
      "metadata": {
        "colab": {
          "base_uri": "https://localhost:8080/",
          "height": 590
        },
        "id": "lobgSQd7ohNW",
        "outputId": "fb9e7b85-c0ac-4214-8635-dfa32d3579e8"
      },
      "source": [
        "import matplotlib.pyplot as plt\r\n",
        "\r\n",
        "print(H.history.keys())\r\n",
        "# summarize history for accuracy\r\n",
        "plt.plot(H.history['accuracy'])\r\n",
        "plt.plot(H.history['val_accuracy'])\r\n",
        "plt.title('model accuracy')\r\n",
        "plt.ylabel('accuracy')\r\n",
        "plt.xlabel('epoch')\r\n",
        "plt.legend(['train', 'test'], loc='upper left')\r\n",
        "plt.show()\r\n",
        "# summarize history for loss\r\n",
        "plt.plot(H.history['loss'])\r\n",
        "plt.plot(H.history['val_loss'])\r\n",
        "plt.title('model loss')\r\n",
        "plt.ylabel('loss')\r\n",
        "plt.xlabel('epoch')\r\n",
        "plt.legend(['train', 'test'], loc='upper left')\r\n",
        "plt.show()"
      ],
      "execution_count": 16,
      "outputs": [
        {
          "output_type": "stream",
          "text": [
            "dict_keys(['loss', 'accuracy', 'val_loss', 'val_accuracy'])\n"
          ],
          "name": "stdout"
        },
        {
          "output_type": "display_data",
          "data": {
            "image/png": "[encoded data removed]",
            "text/plain": [
              "<Figure size 432x288 with 1 Axes>"
            ]
          },
          "metadata": {
            "tags": [],
            "needs_background": "light"
          }
        },
        {
          "output_type": "display_data",
          "data": {
            "image/png": "[encoded data removed]",
            "text/plain": [
              "<Figure size 432x288 with 1 Axes>"
            ]
          },
          "metadata": {
            "tags": [],
            "needs_background": "light"
          }
        }
      ]
    },
    {
      "cell_type": "code",
      "metadata": {
        "colab": {
          "base_uri": "https://localhost:8080/"
        },
        "id": "2KJv2nCMoyh2",
        "outputId": "e89749aa-eab5-4843-c666-acab1033cb51"
      },
      "source": [
        "print(\"[INFO] evaluating network...\")\r\n",
        "predictions = model.predict(testX, batch_size=32)\r\n",
        "print(classification_report(testY.argmax(axis=1),\r\n",
        "\tpredictions.argmax(axis=1), target_names=lb.classes_))"
      ],
      "execution_count": 17,
      "outputs": [
        {
          "output_type": "stream",
          "text": [
            "[INFO] evaluating network...\n",
            "              precision    recall  f1-score   support\n",
            "\n",
            "       coast       0.99      1.00      0.99        91\n",
            "      forest       1.00      0.95      0.97        79\n",
            "     highway       0.94      0.99      0.96        67\n",
            "\n",
            "    accuracy                           0.98       237\n",
            "   macro avg       0.98      0.98      0.98       237\n",
            "weighted avg       0.98      0.98      0.98       237\n",
            "\n"
          ],
          "name": "stdout"
        }
      ]
    },
    {
      "cell_type": "code",
      "metadata": {
        "id": "1gAQ1gH-o0dS"
      },
      "source": [
        ""
      ],
      "execution_count": null,
      "outputs": []
    },
    {
      "cell_type": "code",
      "metadata": {
        "id": "mm5Rtnjdo0QG"
      },
      "source": [
        ""
      ],
      "execution_count": null,
      "outputs": []
    },
    {
      "cell_type": "code",
      "metadata": {
        "id": "w0nM8EaDo0NW"
      },
      "source": [
        ""
      ],
      "execution_count": null,
      "outputs": []
    },
    {
      "cell_type": "code",
      "metadata": {
        "id": "AvfUETv2o0FY"
      },
      "source": [
        ""
      ],
      "execution_count": null,
      "outputs": []
    }
  ]
}